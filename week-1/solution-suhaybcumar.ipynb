{
 "cells": [
  {
   "cell_type": "markdown",
   "metadata": {},
   "source": [
    "# THE PROBLEM 1\n",
    "If we list all the natural numbers below 10 that are multiples of 3 or 5, we get 3, 5, 6 and 9. The sum of these multiples is 23.\n",
    "\n",
    "Finish the solution so that it returns the sum of all the multiples of 3 or 5 below the number passed in.\n",
    "\n",
    "Additionally, if the number is negative, return 0.\n",
    "**Note**:If the number is a multiple of both 3 and 5, only count it once."
   ]
  },
  {
   "cell_type": "markdown",
   "metadata": {},
   "source": [
    "# Solution 1 and My Approach \n",
    "First it is to get the input from the user, Second thing is to convert that input to an int and \n",
    "check if that number is greater then zero (meaning negative), Next thing is to get multiple \n",
    "of 5 and 3 how to get them you can use the Modules operator to get the reminder of the division \n",
    "if the reminder is equal to zero then that number is a multiple of 3 or 5.\n",
    "\n",
    "lastly for the check if there is a number that is shared between them it should only shown once."
   ]
  },
  {
   "cell_type": "code",
   "execution_count": null,
   "metadata": {},
   "outputs": [
    {
     "name": "stdout",
     "output_type": "stream",
     "text": [
      "Multiples of both 5 and 3 start from 1 to 50 = [3, 5, 6, 9, 10, 12, 15, 18, 20, 21, 24, 25, 27, 30, 33, 35, 36, 39, 40, 42, 45, 48, 50]\n"
     ]
    }
   ],
   "source": [
    "def returnMultiple5or3(number):\n",
    "    multiples_of_5_3 = []\n",
    "    if(number < 0):\n",
    "        return 0\n",
    "    \n",
    "    for i in range(1, number + 1):\n",
    "        if i % 3 == 0 and i % 5 == 0:\n",
    "            multiples_of_5_3.append(i)\n",
    "        elif i % 3 == 0 or i % 5 == 0:\n",
    "            multiples_of_5_3.append(i)\n",
    "\n",
    "    return multiples_of_5_3\n",
    "\n",
    "number = 50\n",
    "\n",
    "output = f'Multiples of both 5 and 3 start from {1} to {number} = {returnMultiple5or3(number)}'\n",
    "print(output)\n",
    "\n"
   ]
  },
  {
   "cell_type": "markdown",
   "metadata": {},
   "source": [
    "# Problem 2 \n",
    "The goal of this exercise is to convert a string to a new string where each character in the new string is \"(\" if that character appears only once in the original string, or \")\" if that character appears more than once in the original string. Ignore capitalization when determining if a character is a duplicate.\n",
    "\n",
    "Examples\n",
    "```bash\n",
    "\"din\"      =>  \"(((\"\n",
    "\"recede\"   =>  \"()()()\"\n",
    "\"Success\"  =>  \")())())\"\n",
    "\"(( @\"     =>  \"))((\" \n",
    "```"
   ]
  },
  {
   "cell_type": "markdown",
   "metadata": {},
   "source": [
    "# Solution to Problem 2\n",
    "To get the number of instances a character has in a given string we can use the `count` function in python to get the instances of character in the string."
   ]
  },
  {
   "cell_type": "code",
   "execution_count": null,
   "metadata": {},
   "outputs": [
    {
     "name": "stdout",
     "output_type": "stream",
     "text": [
      "['(((', '()()()', '(())())', '))((']\n"
     ]
    }
   ],
   "source": [
    "example_set = [\"din\", \"recede\", \"Success\", \"(( @\"]\n",
    "solution_set = []\n",
    "\n",
    "for word in example_set:\n",
    "    resulted_indexes = \"\"\n",
    "    for char in word:\n",
    "        if word.count(char) > 1:\n",
    "            resulted_indexes += \")\"\n",
    "        else:\n",
    "            resulted_indexes += \"(\"\n",
    "    solution_set.append(resulted_indexes)\n",
    "\n",
    "print(solution_set)\n",
    "\n"
   ]
  },
  {
   "cell_type": "markdown",
   "metadata": {},
   "source": [
    "# Problem 3 \n",
    "A pangram is a sentence that contains every single letter of the alphabet at least once. For example, the sentence \"The quick brown fox jumps over the lazy dog\" is a pangram, because it uses the letters A-Z at least once (case is irrelevant).\n",
    "\n",
    "Given a string, detect whether or not it is a pangram. Return True if it is, False if not. Ignore numbers and punctuation."
   ]
  },
  {
   "cell_type": "markdown",
   "metadata": {},
   "source": [
    "# Solution 3 to Problem 3\n",
    "To solve the pangram problem we first make an array containing all letters in alphabet, then loop throw each element in the in alphabet and search in the current element in alphabet can be found in the pangram, if it was found a variable to keep track of the state of the pangram will be updated to be true, if even one letter was not found the variable will be set to false then the loop will be terminated."
   ]
  },
  {
   "cell_type": "code",
   "execution_count": null,
   "metadata": {},
   "outputs": [
    {
     "name": "stdout",
     "output_type": "stream",
     "text": [
      "False\n"
     ]
    }
   ],
   "source": [
    "def isaPangram(pagram):\n",
    "    ispangram = False\n",
    "    for i in range(26):\n",
    "        if pangram.find(alphabet[i], 0, len(pangram)) > 0:\n",
    "            ispangram = True\n",
    "        else:\n",
    "            ispangram = False\n",
    "            break\n",
    "    return ispangram\n",
    "alphabet=\"abcdefghijklmnopqrstuvwxyz\"\n",
    "pangram = \"The quick brown fox jumps over the lazy dog\"\n",
    "pangram = pangram.replace(\" \", \"\")\n",
    "\n",
    "print(isaPangram(pangram))"
   ]
  },
  {
   "cell_type": "markdown",
   "metadata": {},
   "source": [
    "# problem 4 \n",
    "Your task is to sort a given string. Each word in the string will contain a single number. This number is the position the word should have in the result.\n",
    "\n",
    "Note: Numbers can be from 1 to 9. So 1 will be the first word (not 0).\n",
    "\n",
    "If the input string is empty, return an empty string. The words in the input String will only contain valid consecutive numbers."
   ]
  },
  {
   "cell_type": "markdown",
   "metadata": {},
   "source": [
    "# solution 4 to problem 4\n",
    "This Python function processes a string where words contain embedded numerical indicators, rearranging the words based on these numbers. It first splits the string into a list of words and initializes an empty list to store the numerical indicators and a placeholder list of the same length as the original list of words. The function then iterates through each word, extracts any digits, and appends them (as integers) to the list of numerical indicators. Using these indicators, it places each word into the appropriate position within the placeholder list, ensuring the order aligns with the embedded numbers. Finally, it combines the rearranged words into a single string and returns the result."
   ]
  },
  {
   "cell_type": "code",
   "execution_count": 41,
   "metadata": {},
   "outputs": [
    {
     "name": "stdout",
     "output_type": "stream",
     "text": [
      "Fo1r the2 g3ood 4of th5e pe6ople\n"
     ]
    }
   ],
   "source": [
    "def sortedString(question):\n",
    "    question = question.split(\" \")\n",
    "    r = []\n",
    "    sorted_q = [0] * len(question)\n",
    "    for word in question:\n",
    "        for char in word:\n",
    "            if char.isdigit():\n",
    "                r.append(int(char))\n",
    "    for i in range(len(sorted_q)):\n",
    "        sorted_q[(r[i] - 1)] = question[i]\n",
    "    return \" \".join(sorted_q)\n",
    "\n",
    "question = \"4of Fo1r pe6ople g3ood th5e the2\"\n",
    "\n",
    "print(sortedString(question))\n"
   ]
  },
  {
   "cell_type": "markdown",
   "metadata": {},
   "source": [
    "# Problem 5\n",
    "Implement a function that computes the difference between two lists. The function should remove all occurrences of elements from the first list (a) that are present in the second list (b). The order of elements in the first list should be preserved in the result.\n",
    "\n",
    "Examples\n",
    "If a = [1, 2] and b = [1], the result should be [2].\n",
    "\n",
    "If a = [1, 2, 2, 2, 3] and b = [2], the result should be [1, 3]"
   ]
  },
  {
   "cell_type": "markdown",
   "metadata": {},
   "source": [
    "# Solution 5 to Problem 5\n",
    "To Solve the difference between the two arrays, First thing is to figure out the bigger from the smaller, after that we make an outer loop that is constrained by the length of the smaller array and an inner loop that is constrained, lastly we compare each element from the smaller one to the bigger one if they are not equal we append that element to the difference array."
   ]
  },
  {
   "cell_type": "code",
   "execution_count": 49,
   "metadata": {},
   "outputs": [
    {
     "name": "stdout",
     "output_type": "stream",
     "text": [
      "[1, 4, 5, 3]\n"
     ]
    }
   ],
   "source": [
    "\n",
    "def array_diff(arr1, arr2):\n",
    "    diff = []\n",
    "\n",
    "    smaller = arr1 if len(arr1) < len(arr2) else arr2\n",
    "    bigger = arr1 if len(arr1) > len(arr2) else arr2\n",
    "\n",
    "    for ele1 in smaller:\n",
    "        for ele2 in bigger:\n",
    "            if ele2 != ele1:\n",
    "                diff.append(ele2)\n",
    "            else:\n",
    "                continue \n",
    "    return diff\n",
    "\n",
    "\n",
    "a = [1, 2, 4, 5, 3]\n",
    "b = [2]\n",
    "\n",
    "print(array_diff(a, b))\n"
   ]
  }
 ],
 "metadata": {
  "kernelspec": {
   "display_name": "Python 3",
   "language": "python",
   "name": "python3"
  },
  "language_info": {
   "codemirror_mode": {
    "name": "ipython",
    "version": 3
   },
   "file_extension": ".py",
   "mimetype": "text/x-python",
   "name": "python",
   "nbconvert_exporter": "python",
   "pygments_lexer": "ipython3",
   "version": "3.11.2"
  }
 },
 "nbformat": 4,
 "nbformat_minor": 2
}
